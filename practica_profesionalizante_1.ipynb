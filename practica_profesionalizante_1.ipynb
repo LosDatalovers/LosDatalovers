{
  "nbformat": 4,
  "nbformat_minor": 0,
  "metadata": {
    "colab": {
      "provenance": [],
      "authorship_tag": "ABX9TyNmxDReoG/gajn+EbIO5b0Q",
      "include_colab_link": true
    },
    "kernelspec": {
      "name": "python3",
      "display_name": "Python 3"
    },
    "language_info": {
      "name": "python"
    }
  },
  "cells": [
    {
      "cell_type": "markdown",
      "metadata": {
        "id": "view-in-github",
        "colab_type": "text"
      },
      "source": [
        "<a href=\"https://colab.research.google.com/github/LosDatalovers/LosDatalovers/blob/main/practica_profesionalizante_1.ipynb\" target=\"_parent\"><img src=\"https://colab.research.google.com/assets/colab-badge.svg\" alt=\"Open In Colab\"/></a>"
      ]
    },
    {
      "cell_type": "markdown",
      "source": [
        "# Grupo: Los Data Lovers  \n",
        "\n",
        "## Integrantes:\n",
        "\n",
        "1)- Almada, Sergio Daniel\n",
        "\n",
        "2)- Beltramone, Mateo\n",
        "\n",
        "3)- Guzmán, Nahir Dayana\n",
        "\n",
        "4)- Navarro, Paola Giselle\n",
        "\n",
        "5)- Oro, Yamil Elías\n",
        "\n",
        "6)- Rivera Luna, Gonzalo Ezequiel\n",
        "\n",
        "7)- Rojas, Marisa\n"
      ],
      "metadata": {
        "id": "ljRGUZ0hrSl5"
      }
    },
    {
      "cell_type": "code",
      "execution_count": null,
      "metadata": {
        "colab": {
          "base_uri": "https://localhost:8080/"
        },
        "id": "hRR1ffPon3EN",
        "outputId": "fff85358-99cb-437a-bba7-1662abb5bbdc"
      },
      "outputs": [
        {
          "output_type": "stream",
          "name": "stdout",
          "text": [
            "Cloning into 'PRACTICA-PROFESIONALIZANTE-1'...\n",
            "remote: Enumerating objects: 35, done.\u001b[K\n",
            "remote: Counting objects: 100% (35/35), done.\u001b[K\n",
            "remote: Compressing objects: 100% (29/29), done.\u001b[K\n",
            "remote: Total 35 (delta 6), reused 0 (delta 0), pack-reused 0 (from 0)\u001b[K\n",
            "Receiving objects: 100% (35/35), 3.78 MiB | 15.72 MiB/s, done.\n",
            "Resolving deltas: 100% (6/6), done.\n"
          ]
        }
      ],
      "source": [
        "!git clone https://github.com/LosDatalovers/PRACTICA-PROFESIONALIZANTE-1.git"
      ]
    },
    {
      "cell_type": "code",
      "source": [
        "cd /content/PRACTICA-PROFESIONALIZANTE-1/Datos Excel/"
      ],
      "metadata": {
        "colab": {
          "base_uri": "https://localhost:8080/"
        },
        "id": "rJYikX-5-USb",
        "outputId": "153a7606-3d36-4160-e3ae-82a34bc18d44"
      },
      "execution_count": null,
      "outputs": [
        {
          "output_type": "stream",
          "name": "stdout",
          "text": [
            "/content/PRACTICA-PROFESIONALIZANTE-1/Datos Excel\n"
          ]
        }
      ]
    },
    {
      "cell_type": "code",
      "source": [
        "ls"
      ],
      "metadata": {
        "colab": {
          "base_uri": "https://localhost:8080/"
        },
        "id": "DM2xgBE8_K9N",
        "outputId": "1cb87f4a-a5dd-458a-d9f0-54e5954533f9"
      },
      "execution_count": null,
      "outputs": [
        {
          "output_type": "stream",
          "name": "stdout",
          "text": [
            "'Carpetas_Set 20240328.csv'    datos                           Resumen_Estadistico_Energia.xlsx\n",
            "'Carpetas_Set 20240328.xlsx'   Resumen_Estadistico_Agua.xlsx\n"
          ]
        }
      ]
    },
    {
      "cell_type": "code",
      "source": [
        "!pip install pandas\n",
        "!pip install matplotlib\n",
        "!pip install numpy\n",
        "!pip install scipy\n",
        "!pip install openpyxl\n"
      ],
      "metadata": {
        "id": "8x6YMzMN_M6l",
        "colab": {
          "base_uri": "https://localhost:8080/"
        },
        "outputId": "98f3d56a-ee09-4472-adb2-43d5f376ae4a"
      },
      "execution_count": null,
      "outputs": [
        {
          "output_type": "stream",
          "name": "stdout",
          "text": [
            "Requirement already satisfied: pandas in /usr/local/lib/python3.10/dist-packages (2.2.2)\n",
            "Requirement already satisfied: numpy>=1.22.4 in /usr/local/lib/python3.10/dist-packages (from pandas) (1.26.4)\n",
            "Requirement already satisfied: python-dateutil>=2.8.2 in /usr/local/lib/python3.10/dist-packages (from pandas) (2.8.2)\n",
            "Requirement already satisfied: pytz>=2020.1 in /usr/local/lib/python3.10/dist-packages (from pandas) (2024.2)\n",
            "Requirement already satisfied: tzdata>=2022.7 in /usr/local/lib/python3.10/dist-packages (from pandas) (2024.1)\n",
            "Requirement already satisfied: six>=1.5 in /usr/local/lib/python3.10/dist-packages (from python-dateutil>=2.8.2->pandas) (1.16.0)\n",
            "Requirement already satisfied: matplotlib in /usr/local/lib/python3.10/dist-packages (3.7.1)\n",
            "Requirement already satisfied: contourpy>=1.0.1 in /usr/local/lib/python3.10/dist-packages (from matplotlib) (1.3.0)\n",
            "Requirement already satisfied: cycler>=0.10 in /usr/local/lib/python3.10/dist-packages (from matplotlib) (0.12.1)\n",
            "Requirement already satisfied: fonttools>=4.22.0 in /usr/local/lib/python3.10/dist-packages (from matplotlib) (4.53.1)\n",
            "Requirement already satisfied: kiwisolver>=1.0.1 in /usr/local/lib/python3.10/dist-packages (from matplotlib) (1.4.7)\n",
            "Requirement already satisfied: numpy>=1.20 in /usr/local/lib/python3.10/dist-packages (from matplotlib) (1.26.4)\n",
            "Requirement already satisfied: packaging>=20.0 in /usr/local/lib/python3.10/dist-packages (from matplotlib) (24.1)\n",
            "Requirement already satisfied: pillow>=6.2.0 in /usr/local/lib/python3.10/dist-packages (from matplotlib) (9.4.0)\n",
            "Requirement already satisfied: pyparsing>=2.3.1 in /usr/local/lib/python3.10/dist-packages (from matplotlib) (3.1.4)\n",
            "Requirement already satisfied: python-dateutil>=2.7 in /usr/local/lib/python3.10/dist-packages (from matplotlib) (2.8.2)\n",
            "Requirement already satisfied: six>=1.5 in /usr/local/lib/python3.10/dist-packages (from python-dateutil>=2.7->matplotlib) (1.16.0)\n",
            "Requirement already satisfied: numpy in /usr/local/lib/python3.10/dist-packages (1.26.4)\n",
            "Requirement already satisfied: scipy in /usr/local/lib/python3.10/dist-packages (1.13.1)\n",
            "Requirement already satisfied: numpy<2.3,>=1.22.4 in /usr/local/lib/python3.10/dist-packages (from scipy) (1.26.4)\n",
            "Requirement already satisfied: openpyxl in /usr/local/lib/python3.10/dist-packages (3.1.5)\n",
            "Requirement already satisfied: et-xmlfile in /usr/local/lib/python3.10/dist-packages (from openpyxl) (1.1.0)\n"
          ]
        }
      ]
    },
    {
      "cell_type": "code",
      "source": [
        "import pandas as pd\n",
        "import matplotlib.pyplot as plt\n",
        "import seaborn as sns\n",
        "\n",
        "url = 'Carpetas_Set 20240328.csv'\n",
        "\n",
        "df = pd.read_csv(url)\n",
        "\n",
        "print(\"Primeros diez registros del dataset:\")\n",
        "print(df.head(20))\n",
        "\n",
        "print(\"\\nDescripción del dataset:\")\n",
        "print(df.describe())"
      ],
      "metadata": {
        "colab": {
          "base_uri": "https://localhost:8080/"
        },
        "id": "dfvbVOFbegwq",
        "outputId": "ce65c3ba-356a-4bda-88e4-b47c7126779d"
      },
      "execution_count": null,
      "outputs": [
        {
          "output_type": "stream",
          "name": "stdout",
          "text": [
            "Primeros diez registros del dataset:\n",
            "   Unnamed: 0 Unnamed: 1    Unnamed: 2  \\\n",
            "0       IdSet  IdCarpeta  IdPrestacion   \n",
            "1          19         26        194817   \n",
            "2          38         48        178504   \n",
            "3          25         36        148535   \n",
            "4           7         10        216520   \n",
            "5          35         44        212953   \n",
            "6          37         47         11429   \n",
            "7          35         44         10554   \n",
            "8           3          4        187671   \n",
            "9          16         20        172994   \n",
            "10         43         58        193366   \n",
            "11         53         73         13069   \n",
            "12         42         57        213636   \n",
            "13         54         75         13380   \n",
            "14         53         73         13427   \n",
            "15         41         56        196218   \n",
            "16         54         75        156173   \n",
            "17         55         49        220981   \n",
            "18          9         13        224786   \n",
            "19         34         45         91275   \n",
            "\n",
            "                          Fact 3624 Flia     3632 Com     Unnamed: 4  \\\n",
            "0                                              Nombre  IdFacturacion   \n",
            "1   GIRAUDO Ezequiel Armando                      ...           3624   \n",
            "2   SANCHEZ Cristian Federico                     ...           3624   \n",
            "3   CONTRERA María Crescencia                     ...           3624   \n",
            "4   FERNANDEZ Juan Ignacio                        ...           3624   \n",
            "5   WETTELL Miriam Claret                         ...           3624   \n",
            "6   MALDONADO Margarita Nydia                     ...           3624   \n",
            "7   FARIAS Alejo Miguel                           ...           3624   \n",
            "8   SANDEZ Miriam Haydee                          ...           3624   \n",
            "9   VIDELA Roque Raul                             ...           3624   \n",
            "10  BUSTAMANTE Cristian Alberto                   ...           3632   \n",
            "11  ANZOLINI Arcenio Omar                         ...           3632   \n",
            "12  CATTANEO Marcelo Agustin                      ...           3632   \n",
            "13  VISINTIN Gabriel Oscar                        ...           3632   \n",
            "14  MUNIC.DE COL.CAROYA                           ...           3632   \n",
            "15  VERASTEGUI AZULY Jhoana Reina                 ...           3632   \n",
            "16  MARINSALDA Alfonsina Daniela                  ...           3632   \n",
            "17  BAIGORRIA Jonathan Gabriel                    ...           3624   \n",
            "18  BRIZUELA PELIZARDI Guillermo Agustin          ...           3624   \n",
            "19  FLORES Santos Manuel                          ...           3624   \n",
            "\n",
            "   Unnamed: 5 Unnamed: 6 Unnamed: 7 Unnamed: 8  Unnamed: 9 Unnamed: 10  \\\n",
            "0        Ruta   IdMedEne     CoordX     CoordY         NaN       IdSet   \n",
            "1   120613751          0          0          0         NaN           1   \n",
            "2   220299850          0          0          0         NaN           2   \n",
            "3   420008175          0          0          0         NaN           3   \n",
            "4   120215480          0          0          0         NaN           4   \n",
            "5   220192190          0          0          0         NaN           5   \n",
            "6   220292480          0          0          0         NaN           6   \n",
            "7   220191300          0          0          0         NaN           6   \n",
            "8   120089650          0          0          0         NaN           7   \n",
            "9   120533310          0          0          0         NaN           8   \n",
            "10  110328751          0          0          0         NaN           9   \n",
            "11  210462000          0          0          0         NaN          11   \n",
            "12  110309200          0          0          0         NaN          12   \n",
            "13  210480450          0          0          0         NaN          13   \n",
            "14  210462667          0          0          0         NaN          14   \n",
            "15  110289210          0          0          0         NaN          15   \n",
            "16  210481705          0          0          0         NaN          16   \n",
            "17  220329400          0          0          0         NaN          17   \n",
            "18  320305711          0          0          0         NaN          18   \n",
            "19  220222010          0          0          0         NaN          18   \n",
            "\n",
            "   Unnamed: 11 Unnamed: 12  \n",
            "0    IdCarpeta    Cantidad  \n",
            "1            2         405  \n",
            "2            3         396  \n",
            "3            4         456  \n",
            "4            5         428  \n",
            "5            8         640  \n",
            "6            7          99  \n",
            "7            9         373  \n",
            "8           10        1147  \n",
            "9           11         348  \n",
            "10          13        1022  \n",
            "11          15         352  \n",
            "12          16         437  \n",
            "13          17         454  \n",
            "14          18         439  \n",
            "15          19         615  \n",
            "16          20         553  \n",
            "17          21         203  \n",
            "18          24           1  \n",
            "19          25          61  \n",
            "\n",
            "Descripción del dataset:\n",
            "       Unnamed: 9\n",
            "count         0.0\n",
            "mean          NaN\n",
            "std           NaN\n",
            "min           NaN\n",
            "25%           NaN\n",
            "50%           NaN\n",
            "75%           NaN\n",
            "max           NaN\n"
          ]
        }
      ]
    }
  ]
}