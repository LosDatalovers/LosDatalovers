{
  "nbformat": 4,
  "nbformat_minor": 0,
  "metadata": {
    "colab": {
      "provenance": [],
      "authorship_tag": "ABX9TyNYq/D34Oatzw2XwUCXdB5B",
      "include_colab_link": true
    },
    "kernelspec": {
      "name": "python3",
      "display_name": "Python 3"
    },
    "language_info": {
      "name": "python"
    }
  },
  "cells": [
    {
      "cell_type": "markdown",
      "metadata": {
        "id": "view-in-github",
        "colab_type": "text"
      },
      "source": [
        "<a href=\"https://colab.research.google.com/github/LosDatalovers/LosDatalovers/blob/main/Proyecto_integrador_Analisis_academicos.ipynb\" target=\"_parent\"><img src=\"https://colab.research.google.com/assets/colab-badge.svg\" alt=\"Open In Colab\"/></a>"
      ]
    },
    {
      "cell_type": "code",
      "execution_count": null,
      "metadata": {
        "id": "iicl0hloefSU"
      },
      "outputs": [],
      "source": []
    },
    {
      "cell_type": "markdown",
      "source": [
        "# Nos solicitaron realizar un analisis de rendimiento academico de un grupo de estudiantes.].\n",
        "\n",
        "## Integrantes del Equipo\n",
        "\n",
        "- **Almada, Sergio Danielmbre**\n",
        "- **Beltramone, Mateoombre**\n",
        "- **Godoy Silvana Andrea**\n",
        "- **Guzmán, Nahir Dayana**\n",
        "- **Navarro, Paola Giselle**\n",
        "- **Oro, Yamil Elías**\n",
        "- **Rivera Luna, Gonzalo Ezequiel**\n",
        "- **Rojas, Marisa**"
      ],
      "metadata": {
        "id": "UhZniD33eiXZ"
      }
    },
    {
      "cell_type": "code",
      "source": [
        "!git clone https://github.com/LosDatalovers/LosDatalovers.git\n"
      ],
      "metadata": {
        "colab": {
          "base_uri": "https://localhost:8080/"
        },
        "id": "MP0WYThgiO15",
        "outputId": "62c8faf6-ac9a-4891-e2ff-c0de900eafd3"
      },
      "execution_count": 4,
      "outputs": [
        {
          "output_type": "stream",
          "name": "stdout",
          "text": [
            "Cloning into 'LosDatalovers'...\n",
            "remote: Enumerating objects: 43, done.\u001b[K\n",
            "remote: Counting objects: 100% (43/43), done.\u001b[K\n",
            "remote: Compressing objects: 100% (36/36), done.\u001b[K\n",
            "remote: Total 43 (delta 9), reused 0 (delta 0), pack-reused 0\u001b[K\n",
            "Receiving objects: 100% (43/43), 51.77 KiB | 12.94 MiB/s, done.\n",
            "Resolving deltas: 100% (9/9), done.\n"
          ]
        }
      ]
    },
    {
      "cell_type": "code",
      "source": [
        "!ls\n"
      ],
      "metadata": {
        "colab": {
          "base_uri": "https://localhost:8080/"
        },
        "id": "OrECGz_Ri_F_",
        "outputId": "e6cc96d6-6d6d-4f8f-c2d1-873d75b67fe0"
      },
      "execution_count": null,
      "outputs": [
        {
          "output_type": "stream",
          "name": "stdout",
          "text": [
            "LosDatalovers  sample_data\n"
          ]
        }
      ]
    },
    {
      "cell_type": "code",
      "source": [
        "cd LosDatalovers/"
      ],
      "metadata": {
        "colab": {
          "base_uri": "https://localhost:8080/"
        },
        "id": "tEuxQyi7jE8G",
        "outputId": "a35d0d64-f3dc-4c5b-8c75-60da57e7ceb3"
      },
      "execution_count": null,
      "outputs": [
        {
          "output_type": "stream",
          "name": "stdout",
          "text": [
            "/content/LosDatalovers\n"
          ]
        }
      ]
    },
    {
      "cell_type": "code",
      "source": [
        "!ls\n"
      ],
      "metadata": {
        "colab": {
          "base_uri": "https://localhost:8080/"
        },
        "id": "gQJMfa1YjK48",
        "outputId": "4db5a448-cad3-43e4-e9f4-fa48e29b506e"
      },
      "execution_count": null,
      "outputs": [
        {
          "output_type": "stream",
          "name": "stdout",
          "text": [
            "Datos  Documentación  README.md\n"
          ]
        }
      ]
    },
    {
      "cell_type": "code",
      "source": [
        "cd Datos/"
      ],
      "metadata": {
        "colab": {
          "base_uri": "https://localhost:8080/"
        },
        "id": "5ymfiUgVjN01",
        "outputId": "49c06c3c-a5b4-475f-f064-ccf81f3592ca"
      },
      "execution_count": null,
      "outputs": [
        {
          "output_type": "stream",
          "name": "stdout",
          "text": [
            "/content/LosDatalovers/Datos\n"
          ]
        }
      ]
    },
    {
      "cell_type": "code",
      "source": [
        "pip install pandas"
      ],
      "metadata": {
        "colab": {
          "base_uri": "https://localhost:8080/"
        },
        "id": "r5hPXC2nprU8",
        "outputId": "219bc1f3-6356-4166-aa23-320355a00583"
      },
      "execution_count": 2,
      "outputs": [
        {
          "output_type": "stream",
          "name": "stdout",
          "text": [
            "Requirement already satisfied: pandas in /usr/local/lib/python3.10/dist-packages (2.0.3)\n",
            "Requirement already satisfied: python-dateutil>=2.8.2 in /usr/local/lib/python3.10/dist-packages (from pandas) (2.8.2)\n",
            "Requirement already satisfied: pytz>=2020.1 in /usr/local/lib/python3.10/dist-packages (from pandas) (2023.4)\n",
            "Requirement already satisfied: tzdata>=2022.1 in /usr/local/lib/python3.10/dist-packages (from pandas) (2024.1)\n",
            "Requirement already satisfied: numpy>=1.21.0 in /usr/local/lib/python3.10/dist-packages (from pandas) (1.25.2)\n",
            "Requirement already satisfied: six>=1.5 in /usr/local/lib/python3.10/dist-packages (from python-dateutil>=2.8.2->pandas) (1.16.0)\n"
          ]
        }
      ]
    },
    {
      "cell_type": "code",
      "source": [
        "import pandas as pd\n",
        "\n",
        "url = 'Dataset_Estudiantes.csv'\n",
        "\n",
        "df = pd.read_csv(url)\n",
        "\n",
        "print(\"Primeros diez registros del dataset:\")\n",
        "print(df.head(10))\n",
        "\n",
        "print(\"\\nDescripción del dataset:\")\n",
        "print(df.describe())"
      ],
      "metadata": {
        "colab": {
          "base_uri": "https://localhost:8080/"
        },
        "id": "5wDxIWI_jaRe",
        "outputId": "26def729-1b1c-416c-d572-acc66242265b"
      },
      "execution_count": 5,
      "outputs": [
        {
          "output_type": "stream",
          "name": "stdout",
          "text": [
            "Primeros diez registros del dataset:\n",
            "   Edad    GÃ©nero  Puntaje_MatemÃ¡ticas  Puntaje_Lengua  \\\n",
            "0    19  Masculino                    97              62   \n",
            "1    20  Masculino                    68              61   \n",
            "2    18  Masculino                    53              80   \n",
            "3    20   Femenino                    84              95   \n",
            "4    20  Masculino                    98              51   \n",
            "5    17   Femenino                    66             100   \n",
            "6    18  Masculino                    93              99   \n",
            "7    18   Femenino                    77              84   \n",
            "8    18  Masculino                    79              72   \n",
            "9    20  Masculino                    78              66   \n",
            "\n",
            "  Asistencia;;;;;Edad;Genero;Puntaje matematicas;Puntaje Lengua;Asistencia  \n",
            "0                       87;;;;;19;Masculino;97;62;87                        \n",
            "1                       96;;;;;20;Masculino;68;61;96                        \n",
            "2                     100;;;;;18;Masculino;53;80;100                        \n",
            "3                        95;;;;;20;Femenino;84;95;95                        \n",
            "4                       86;;;;;20;Masculino;98;51;86                        \n",
            "5                       76;;;;;17;Femenino;66;100;76                        \n",
            "6                       68;;;;;18;Masculino;93;99;68                        \n",
            "7                        92;;;;;18;Femenino;77;84;92                        \n",
            "8                       79;;;;;18;Masculino;79;72;79                        \n",
            "9                       72;;;;;20;Masculino;78;66;72                        \n",
            "\n",
            "Descripción del dataset:\n",
            "             Edad  Puntaje_MatemÃ¡ticas  Puntaje_Lengua\n",
            "count  200.000000            200.000000      200.000000\n",
            "mean    18.535000             76.295000       75.260000\n",
            "std      1.680146             14.495814       14.282941\n",
            "min     16.000000             50.000000       50.000000\n",
            "25%     17.000000             65.000000       62.000000\n",
            "50%     19.000000             77.500000       75.000000\n",
            "75%     20.000000             88.000000       87.000000\n",
            "max     21.000000            100.000000      100.000000\n"
          ]
        }
      ]
    }
  ]
}