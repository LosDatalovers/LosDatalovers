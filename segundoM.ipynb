{
  "nbformat": 4,
  "nbformat_minor": 0,
  "metadata": {
    "colab": {
      "provenance": [],
      "authorship_tag": "ABX9TyNRMYSYAXZRwGTtZ94DZDlf",
      "include_colab_link": true
    },
    "kernelspec": {
      "name": "python3",
      "display_name": "Python 3"
    },
    "language_info": {
      "name": "python"
    }
  },
  "cells": [
    {
      "cell_type": "markdown",
      "metadata": {
        "id": "view-in-github",
        "colab_type": "text"
      },
      "source": [
        "<a href=\"https://colab.research.google.com/github/LosDatalovers/LosDatalovers/blob/main/segundoM.ipynb\" target=\"_parent\"><img src=\"https://colab.research.google.com/assets/colab-badge.svg\" alt=\"Open In Colab\"/></a>"
      ]
    },
    {
      "cell_type": "code",
      "source": [
        "!git clone https://github.com/LosDatalovers/LosDatalovers.git\n"
      ],
      "metadata": {
        "colab": {
          "base_uri": "https://localhost:8080/"
        },
        "id": "3cI56Vk3pGaA",
        "outputId": "984476f6-0810-4ac2-9269-b2fead0e61ca"
      },
      "execution_count": 15,
      "outputs": [
        {
          "output_type": "stream",
          "name": "stdout",
          "text": [
            "Cloning into 'LosDatalovers'...\n",
            "remote: Enumerating objects: 157, done.\u001b[K\n",
            "remote: Counting objects: 100% (45/45), done.\u001b[K\n",
            "remote: Compressing objects: 100% (36/36), done.\u001b[K\n",
            "remote: Total 157 (delta 28), reused 9 (delta 9), pack-reused 112 (from 1)\u001b[K\n",
            "Receiving objects: 100% (157/157), 7.70 MiB | 19.76 MiB/s, done.\n",
            "Resolving deltas: 100% (68/68), done.\n"
          ]
        }
      ]
    },
    {
      "cell_type": "code",
      "source": [
        "!ls\n",
        "\n"
      ],
      "metadata": {
        "colab": {
          "base_uri": "https://localhost:8080/"
        },
        "id": "A8fCCb3op7iT",
        "outputId": "5ccd1389-c0fa-4ecf-a566-56c66a6a7110"
      },
      "execution_count": 16,
      "outputs": [
        {
          "output_type": "stream",
          "name": "stdout",
          "text": [
            "LosDatalovers\n"
          ]
        }
      ]
    },
    {
      "cell_type": "code",
      "source": [
        "cd LosDatalovers/\n"
      ],
      "metadata": {
        "colab": {
          "base_uri": "https://localhost:8080/"
        },
        "id": "g-fVCZjWp-Cd",
        "outputId": "7996876e-9987-4834-aa7c-761d7cbabff4"
      },
      "execution_count": 17,
      "outputs": [
        {
          "output_type": "stream",
          "name": "stdout",
          "text": [
            "/root/LosDatalovers\n"
          ]
        }
      ]
    },
    {
      "cell_type": "code",
      "source": [
        "cd Python/\n"
      ],
      "metadata": {
        "colab": {
          "base_uri": "https://localhost:8080/"
        },
        "id": "8XHxM4y6qAon",
        "outputId": "603c4972-65f0-46f7-d5ca-8c608ef12a6e"
      },
      "execution_count": 18,
      "outputs": [
        {
          "output_type": "stream",
          "name": "stdout",
          "text": [
            "/root/LosDatalovers/Python\n"
          ]
        }
      ]
    },
    {
      "cell_type": "code",
      "execution_count": 21,
      "metadata": {
        "colab": {
          "base_uri": "https://localhost:8080/"
        },
        "id": "W2rEBfauo6CQ",
        "outputId": "e5d8c380-0ac4-4aa5-ad75-2fbf94a62d74"
      },
      "outputs": [
        {
          "output_type": "stream",
          "name": "stdout",
          "text": [
            "Exactitud (Accuracy): 0.975\n",
            "Matriz de Confusión:\n",
            " [[13  1]\n",
            " [ 0 26]]\n",
            "Reporte de Clasificación:\n",
            "               precision    recall  f1-score   support\n",
            "\n",
            "           0       1.00      0.93      0.96        14\n",
            "           1       0.96      1.00      0.98        26\n",
            "\n",
            "    accuracy                           0.97        40\n",
            "   macro avg       0.98      0.96      0.97        40\n",
            "weighted avg       0.98      0.97      0.97        40\n",
            "\n"
          ]
        }
      ],
      "source": [
        "import pandas as pd\n",
        "import matplotlib.pyplot as plt\n",
        "import numpy as np\n",
        "from sklearn.model_selection import train_test_split\n",
        "from sklearn.linear_model import LogisticRegression\n",
        "from sklearn.linear_model import LinearRegression\n",
        "from sklearn.metrics import mean_absolute_error, mean_squared_error, accuracy_score, confusion_matrix, classification_report\n",
        "from sklearn.preprocessing import StandardScaler\n",
        "from sklearn.impute import SimpleImputer\n",
        "\n",
        "\n",
        "def leerLimpiar():\n",
        "    url = 'Dataset_Estudiantes.csv'\n",
        "    columnas = ['Edad','Genero','Puntaje matematicas','Puntaje Lengua','Asistencia']\n",
        "    df = pd.read_csv(url, sep=';', usecols=columnas)\n",
        "    df = df.dropna()\n",
        "\n",
        "    return df\n",
        "\n",
        "def horasEstudio(df):\n",
        "    # Rango de horas de estudio para los puntajes más altos\n",
        "    max = 16\n",
        "    min = 2\n",
        "\n",
        "    # Normalizar los puntajes de matemáticas entre 0 y 1\n",
        "    df['Puntaje Normalizado'] = (df['Puntaje matematicas'] - df['Puntaje matematicas'].min()) / (df['Puntaje matematicas'].max() - df['Puntaje matematicas'].min())\n",
        "\n",
        "    # Generar las horas de estudio basadas en el puntaje normalizado\n",
        "    df['Horas de estudio semanal'] = df['Puntaje Normalizado'] * (max - min) + min\n",
        "\n",
        "    # Añadir un factor de aleatoriedad para simular variabilidad\n",
        "    df['Horas de estudio semanal'] += np.random.normal(0, 1.5, len(df))\n",
        "\n",
        "    # Redondear a una hora cercana\n",
        "    df['Horas de estudio semanal'] = df['Horas de estudio semanal'].clip(lower=min, upper=max).round()\n",
        "\n",
        "    # Eliminar columna de puntaje normalizado si no es necesaria\n",
        "    df.drop(columns=['Puntaje Normalizado'], inplace=True)\n",
        "\n",
        "    df.to_csv('Dataset_Estudiantes.csv', sep=';', index=False)\n",
        "\n",
        "    return df\n",
        "\n",
        "def graficos(df):\n",
        "    #Comparando según genero\n",
        "    promedio = df.groupby('Genero')[['Puntaje matematicas', 'Puntaje Lengua']].mean()\n",
        "    posiciones = np.arange(len(promedio))\n",
        "    ancho = 0.4\n",
        "    plt.figure(figsize=(10, 6))\n",
        "    plt.bar(posiciones - ancho/2, promedio['Puntaje matematicas'], ancho, label='Matemáticas', color='skyblue')\n",
        "    plt.bar(posiciones + ancho/2, promedio['Puntaje Lengua'], ancho, label='Lengua', color='lightcoral')\n",
        "    plt.xlabel('Género')\n",
        "    plt.ylabel('Puntaje Promedio')\n",
        "    plt.title('Puntaje Promedio en Matemáticas y Lengua por Género')\n",
        "    plt.xticks(posiciones, promedio.index)\n",
        "    plt.legend()\n",
        "    plt.show()\n",
        "\n",
        "\n",
        "    # Gráfico de dispersión\n",
        "    plt.figure(figsize=(8, 6))\n",
        "    plt.scatter(df['Puntaje matematicas'], df['Puntaje Lengua'], alpha=0.6, color='purple')\n",
        "    plt.xlim(df['Puntaje matematicas'].min() - 3, df['Puntaje matematicas'].max() + 3)\n",
        "    plt.ylim(df['Puntaje Lengua'].min() - 3, df['Puntaje Lengua'].max() + 3)\n",
        "    plt.plot([0, 103], [0, 103], color='red', linestyle='--', linewidth=2, label=\"Igual Puntaje\")\n",
        "    plt.title(\"Relación entre Matemáticas y Lengua\")\n",
        "    plt.xlabel(\"Puntaje en Matemáticas\")\n",
        "    plt.ylabel(\"Puntaje en Lengua\")\n",
        "    plt.grid(True)\n",
        "    plt.legend()\n",
        "    plt.show()\n",
        "\n",
        "    # Grafico de Estudio\n",
        "    plt.figure(figsize=(10, 6))\n",
        "    plt.scatter(df['Puntaje matematicas'], df['Horas de estudio semanal'], alpha=0.6, color='blue')\n",
        "    plt.title(\"Relación entre Calificación en Matemáticas y Horas de Estudio\")\n",
        "    plt.xlabel(\"Puntaje en Matemáticas\")\n",
        "    plt.ylabel(\"Horas de Estudio Semanal\")\n",
        "    plt.grid(True)\n",
        "    plt.show()\n",
        "\n",
        "def asimetria(df):\n",
        "    if df[['Puntaje matematicas', 'Asistencia', 'Edad', 'Horas de estudio semanal']].isnull().any().any():\n",
        "        print(\"Existen valores nulos en las variables. Asegúrate de tratarlos antes de calcular la asimetría.\")\n",
        "        return\n",
        "\n",
        "    # Asimetría de Puntaje matemáticas por Género\n",
        "    matematicas = df.groupby('Genero')['Puntaje matematicas'].skew()\n",
        "    asistencia = df['Asistencia'].skew()\n",
        "    edad = df['Edad'].skew()\n",
        "    estudio = df['Horas de estudio semanal'].skew()\n",
        "\n",
        "    print(\"Asimetría del Puntaje en Matemáticas por Género:\")\n",
        "    for genero, asimetria_valor in matematicas.items():\n",
        "        print(f\"{genero}: {asimetria_valor:.2f}\")\n",
        "\n",
        "    print(f\"\\nAsimetría de la Asistencia: {asistencia:.2f}\")\n",
        "    print(f\"Asimetría de la Edad: {edad:.2f}\")\n",
        "    print(f\"Asimetría de las Horas de estudio semanal: {estudio:.2f}\")\n",
        "\n",
        "def regresionMultiple(df):\n",
        "    X = df[['Edad', 'Asistencia', 'Horas de estudio semanal']]\n",
        "    Y = df['Puntaje matematicas']\n",
        "\n",
        "    # Escalar las variables\n",
        "    scaler = StandardScaler()\n",
        "    X_scaled = scaler.fit_transform(X)\n",
        "\n",
        "    # Dividir en entrenamiento y prueba (80% - 20%)\n",
        "    X_train, X_test, y_train, y_test = train_test_split(X_scaled, Y, test_size=0.2, random_state=42)\n",
        "\n",
        "    # Crear el modelo de regresión lineal múltiple\n",
        "    modelo = LinearRegression()\n",
        "\n",
        "    # Entrenar el modelo\n",
        "    modelo.fit(X_train, y_train)\n",
        "\n",
        "    # Realizar predicciones\n",
        "    y_pred = modelo.predict(X_test)\n",
        "\n",
        "    # Evaluar el modelo\n",
        "    print(\"Coeficientes:\", modelo.coef_)\n",
        "    print(\"Intersección (intercept):\", modelo.intercept_)\n",
        "    print(\"\\nEvaluación del modelo:\")\n",
        "    print(f\"R^2 (Coeficiente de determinación): {modelo.score(X_test, y_test):.2f}\")\n",
        "    print(f\"Error Absoluto Medio (MAE): {mean_absolute_error(y_test, y_pred):.2f}\")\n",
        "    print(f\"Error Cuadrático Medio (MSE): {mean_squared_error(y_test, y_pred):.2f}\")\n",
        "    print(f\"Raíz del Error Cuadrático Medio (RMSE): {mean_squared_error(y_test, y_pred, squared=False):.2f}\")\n",
        "\n",
        "def correlacion(df):\n",
        "\n",
        "    df['Genero'] = df['Genero'].map({'Masculino': 1, 'Femenino': 0})\n",
        "    correlaciones = df.corr()\n",
        "    correlacion_puntaje_matematicas = correlaciones['Puntaje matematicas'].sort_values(ascending=False)\n",
        "    print(\"Variables con mejor correlación con el Puntaje en Matemáticas:\")\n",
        "    print(correlacion_puntaje_matematicas)\n",
        "\n",
        "def sinergias(df):\n",
        "    # Excluir 'Genero' de la lista de columnas a imputar\n",
        "    columnas_imputar = ['Horas de estudio semanal', 'Edad', 'Asistencia']\n",
        "\n",
        "    # Imputación de valores faltantes\n",
        "    imputer = SimpleImputer(strategy='mean')\n",
        "    df[columnas_imputar] = imputer.fit_transform(df[columnas_imputar])\n",
        "\n",
        "    # Eliminar 'Genero' de las variables predictoras\n",
        "    X = df[['Horas de estudio semanal', 'Edad', 'Asistencia']]\n",
        "    y = df['Puntaje matematicas']\n",
        "\n",
        "    # Dividir en datos de entrenamiento y prueba\n",
        "    X_train, X_test, y_train, y_test = train_test_split(X, y, test_size=0.2, random_state=42)\n",
        "\n",
        "    # Crear y entrenar el modelo\n",
        "    modelo = LinearRegression()\n",
        "    modelo.fit(X_train, y_train)\n",
        "\n",
        "    # Mostrar los resultados del modelo\n",
        "    print(\"R^2 en entrenamiento:\", modelo.score(X_train, y_train))\n",
        "    print(\"R^2 en prueba:\", modelo.score(X_test, y_test))\n",
        "\n",
        "def regrecionLogistica(df):\n",
        "    # Crear columna binaria para aprobación: 1 si aprueba 0 si no\n",
        "    df['Aprobado'] = df['Puntaje matematicas'].apply(lambda x: 1 if x >= 70 else 0)\n",
        "\n",
        "    # Variables predictoras y variable objetivo\n",
        "    X = df[['Edad', 'Asistencia', 'Horas de estudio semanal']]\n",
        "    y = df['Aprobado']\n",
        "\n",
        "    # Escalar las variables\n",
        "    scaler = StandardScaler()\n",
        "    X_scaled = scaler.fit_transform(X)\n",
        "\n",
        "    # División de datos en entrenamiento y prueba\n",
        "    X_train, X_test, y_train, y_test = train_test_split(X_scaled, y, test_size=0.2, random_state=42)\n",
        "\n",
        "    # Crear el modelo de regresión logística\n",
        "    modelo = LogisticRegression()\n",
        "\n",
        "    # Entrenar el modelo\n",
        "    modelo.fit(X_train, y_train)\n",
        "\n",
        "    # Realizar predicciones\n",
        "    y_pred = modelo.predict(X_test)\n",
        "\n",
        "    # Evaluar el modelo\n",
        "    print(\"Exactitud (Accuracy):\", accuracy_score(y_test, y_pred))\n",
        "    print(\"Matriz de Confusión:\\n\", confusion_matrix(y_test, y_pred))\n",
        "    print(\"Reporte de Clasificación:\\n\", classification_report(y_test, y_pred))\n",
        "\n",
        "\n",
        "df = leerLimpiar()\n",
        "df = horasEstudio(df)\n",
        "#graficos(df)\n",
        "#asimetria(df)\n",
        "#correlacion(df) #Compruebo que variables son las mas optimas para el analisis de datos\n",
        "#sinergias(df)\n",
        "#regresionMultiple(df)\n",
        "regrecionLogistica(df)\n",
        "\n",
        "\n",
        "#print(\"\\n Registros completos\")\n",
        "#print(df)\n",
        "\n",
        "# print(\"\\n Descripcion\")\n",
        "# print(df.describe().round(2))"
      ]
    }
  ]
}